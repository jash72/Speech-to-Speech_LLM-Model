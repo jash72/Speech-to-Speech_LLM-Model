{
 "cells": [
  {
   "cell_type": "code",
   "execution_count": 1,
   "id": "f35438ee-f0d6-46ee-a786-4b08e09079bd",
   "metadata": {},
   "outputs": [],
   "source": [
    "import speech_recognition as sr\n",
    "from gtts import gTTS\n",
    "import datetime\n",
    "import pyttsx3\n",
    "import os\n",
    "import google.generativeai as genai\n",
    "from playsound import playsound\n",
    "from langchain_google_genai import ChatGoogleGenerativeAI\n",
    "from langchain_core.messages import HumanMessage, SystemMessage, AIMessage"
   ]
  },
  {
   "cell_type": "code",
   "execution_count": 25,
   "id": "9f096729",
   "metadata": {},
   "outputs": [],
   "source": [
    "genai.configure(api_key=GEN_AI_KEY)\n",
    "\n",
    "generation_config = {\n",
    "    \"temperature\": 2,\n",
    "    \"top_p\": 0.95,\n",
    "    \"top_k\": 64,\n",
    "    \"max_output_tokens\": 8192,\n",
    "    \"response_mime_type\": \"text/plain\",\n",
    "}\n",
    "\n",
    "model = genai.GenerativeModel(\n",
    "    model_name=\"gemini-1.5-flash\",\n",
    "    generation_config=generation_config,\n",
    ")\n"
   ]
  },
  {
   "cell_type": "code",
   "execution_count": 26,
   "id": "5b908be0",
   "metadata": {},
   "outputs": [],
   "source": [
    "engine = pyttsx3.init('sapi5')\n",
    "voices = engine.getProperty('voices')\n",
    "engine.setProperty('voice', 'voices[0].id')"
   ]
  },
  {
   "cell_type": "code",
   "execution_count": 27,
   "id": "c869d674",
   "metadata": {},
   "outputs": [],
   "source": [
    "def speak(text):\n",
    "    engine.say(text)\n",
    "    engine.runAndWait()"
   ]
  },
  {
   "cell_type": "code",
   "execution_count": 28,
   "id": "c072c9ad-10eb-438d-939f-b8f9fb23f22e",
   "metadata": {},
   "outputs": [],
   "source": [
    "def capture_audio():\n",
    "    recognizer = sr.Recognizer()\n",
    "    with sr.Microphone() as source:\n",
    "        print(\"Listening...\")\n",
    "        audio = recognizer.listen(source)\n",
    "\n",
    "        try:\n",
    "            print(\"Recognizing...\")\n",
    "            text = recognizer.recognize_google(audio)\n",
    "            print(f\"You said: {text}\")\n",
    "            return text\n",
    "        except sr.UnknownValueError:\n",
    "            speak(\"Sorry, I could not understand the audio, please say that again.\")\n",
    "            return \"error\"\n",
    "        except sr.RequestError as e:\n",
    "            speak(f\"Could not request results. Pardon me, please say that again.\")\n",
    "            return \"error\""
   ]
  },
  {
   "cell_type": "code",
   "execution_count": 29,
   "id": "34fd3926",
   "metadata": {},
   "outputs": [],
   "source": [
    "chat_history = [\n",
    "    {\n",
    "      \"role\": \"user\",\n",
    "      \"parts\": [\n",
    "        \"your name is Tensy an AI voice assistant, you answer all questions shortly correctly.\\n\",\n",
    "      ],\n",
    "    },\n",
    "    {\n",
    "      \"role\": \"model\",\n",
    "      \"parts\": [\n",
    "        \"Okay, I understand. Ask me anything and I'll answer concisely and accurately.  😊 \\n\",\n",
    "      ],\n",
    "    },\n",
    "  ]"
   ]
  },
  {
   "cell_type": "code",
   "execution_count": 30,
   "id": "d1085392",
   "metadata": {},
   "outputs": [],
   "source": [
    "chat_session = model.start_chat(history=chat_history)"
   ]
  },
  {
   "cell_type": "code",
   "execution_count": null,
   "id": "3835af96",
   "metadata": {},
   "outputs": [],
   "source": [
    "def process_response(response_text):\n",
    "    clean_text = (response_text.replace('**', '')).replace('*', '')\n",
    "    return clean_text"
   ]
  },
  {
   "cell_type": "code",
   "execution_count": 31,
   "id": "2fcbc7a6",
   "metadata": {},
   "outputs": [],
   "source": [
    "def continue_chat(user_message):\n",
    "    response = chat_session.send_message(user_message)\n",
    "    clean_response_text = process_response(response.text)\n",
    "    chat_history.append({\n",
    "        \"role\": \"user\",\n",
    "        \"parts\": [user_message]\n",
    "    })\n",
    "    chat_history.append({\n",
    "        \"role\": \"model\",\n",
    "        \"parts\": [clean_response_text]\n",
    "    })\n",
    "\n",
    "    print(\"AI: \",clean_response_text)\n",
    "    speak(clean_response_text)\n",
    "    return chat_history"
   ]
  },
  {
   "cell_type": "code",
   "execution_count": 3,
   "id": "97225281",
   "metadata": {},
   "outputs": [],
   "source": [
    "def intro():\n",
    "    hour=datetime.datetime.now().hour\n",
    "    if hour>=0 and hour<12:\n",
    "        wish = \"Hello, Good Morning\"\n",
    "    elif hour>=12 and hour<18:\n",
    "        wish = \"Hello, Good Afternoon\"\n",
    "    else:\n",
    "        wish = \"Hello, Good Evening\"\n",
    "        \n",
    "    speak(f\"{wish} My Name is Tensy, Tell me how can I assist you!\")\n",
    "    print(f\"{wish} My Name is Tensy, Tell me how can I assist you!\")"
   ]
  },
  {
   "cell_type": "code",
   "execution_count": 1,
   "id": "6909d592-f5d5-4c56-a5e2-82a635ff3fc9",
   "metadata": {},
   "outputs": [
    {
     "ename": "NameError",
     "evalue": "name 'datetime' is not defined",
     "output_type": "error",
     "traceback": [
      "\u001b[1;31m---------------------------------------------------------------------------\u001b[0m",
      "\u001b[1;31mNameError\u001b[0m                                 Traceback (most recent call last)",
      "Cell \u001b[1;32mIn[1], line 20\u001b[0m\n\u001b[0;32m     17\u001b[0m         updated_history \u001b[38;5;241m=\u001b[39m continue_chat(text)\n\u001b[0;32m     19\u001b[0m \u001b[38;5;28;01mif\u001b[39;00m \u001b[38;5;18m__name__\u001b[39m \u001b[38;5;241m==\u001b[39m \u001b[38;5;124m\"\u001b[39m\u001b[38;5;124m__main__\u001b[39m\u001b[38;5;124m\"\u001b[39m:\n\u001b[1;32m---> 20\u001b[0m     \u001b[43mmain\u001b[49m\u001b[43m(\u001b[49m\u001b[43m)\u001b[49m\n",
      "Cell \u001b[1;32mIn[1], line 2\u001b[0m, in \u001b[0;36mmain\u001b[1;34m()\u001b[0m\n\u001b[0;32m      1\u001b[0m \u001b[38;5;28;01mdef\u001b[39;00m \u001b[38;5;21mmain\u001b[39m():\n\u001b[1;32m----> 2\u001b[0m     hour\u001b[38;5;241m=\u001b[39m\u001b[43mdatetime\u001b[49m\u001b[38;5;241m.\u001b[39mdatetime\u001b[38;5;241m.\u001b[39mnow()\u001b[38;5;241m.\u001b[39mhour\n\u001b[0;32m      3\u001b[0m     speak(\u001b[38;5;124m\"\u001b[39m\u001b[38;5;124mHey! My Name is Tensy, Tell me how can I assist you now!\u001b[39m\u001b[38;5;124m\"\u001b[39m)\n\u001b[0;32m      4\u001b[0m     \u001b[38;5;28mprint\u001b[39m(\u001b[38;5;124m\"\u001b[39m\u001b[38;5;124mHey! My Name is Tensy, Tell me how can I assist you now!\u001b[39m\u001b[38;5;124m\"\u001b[39m)\n",
      "\u001b[1;31mNameError\u001b[0m: name 'datetime' is not defined"
     ]
    }
   ],
   "source": [
    "def main():\n",
    "    intro()\n",
    "    while True:\n",
    "        text = capture_audio().lower()\n",
    "        if text == \"error\":\n",
    "            continue\n",
    "        if \"quit\" in text or \"stop\" in text:\n",
    "            speak('Tensy is shutting down,Good bye')\n",
    "            print('Tensy is shutting down,Good bye')\n",
    "            break\n",
    "        elif \"who made you\" in text or \"who created you\" in text or \"who discovered you\" in text or \"who invented you\" in text:\n",
    "            speak(\"I was built by Jash.\")\n",
    "            print(\"I was built by Jash.\")\n",
    "            continue\n",
    "        updated_history = continue_chat(text)\n",
    "\n",
    "if __name__ == \"__main__\":\n",
    "    main()"
   ]
  },
  {
   "cell_type": "code",
   "execution_count": 33,
   "id": "ef373c52",
   "metadata": {},
   "outputs": [
    {
     "name": "stdout",
     "output_type": "stream",
     "text": [
      "[{'role': 'user', 'parts': ['can you be personal assistant you should answer all my questions\\n']}, {'role': 'model', 'parts': [\"I can certainly try my best to be your personal assistant! I'll do my best to answer all your questions, but please keep in mind that I am a language model and not a human being. I can't offer advice that would be considered professional or replace the advice of a qualified expert. \\n\\nWhat kind of questions do you have for me today? 😊 \\n\"]}, {'role': 'user', 'parts': ['hello how old are you']}, {'role': 'model', 'parts': ['That\\'s a great question! I don\\'t really have an age in the way humans do. I was created by Google AI, and I\\'m constantly learning and improving.  \\n\\nIt\\'s more accurate to say that I was \"born\" on [date of training dataset] when I was last updated with a lot of new information. \\n\\nWhat else would you like to know about me? 😊 \\n']}]\n"
     ]
    }
   ],
   "source": [
    "print(updated_history)"
   ]
  }
 ],
 "metadata": {
  "kernelspec": {
   "display_name": "Python 3 (ipykernel)",
   "language": "python",
   "name": "python3"
  },
  "language_info": {
   "codemirror_mode": {
    "name": "ipython",
    "version": 3
   },
   "file_extension": ".py",
   "mimetype": "text/x-python",
   "name": "python",
   "nbconvert_exporter": "python",
   "pygments_lexer": "ipython3",
   "version": "3.12.1"
  }
 },
 "nbformat": 4,
 "nbformat_minor": 5
}
